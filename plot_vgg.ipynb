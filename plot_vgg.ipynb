{
 "cells": [
  {
   "cell_type": "code",
   "execution_count": 8,
   "metadata": {},
   "outputs": [],
   "source": [
    "import numpy as np\n",
    "import tensorflow as tf\n",
    "\n",
    "import matplotlib.pyplot as plt"
   ]
  },
  {
   "cell_type": "code",
   "execution_count": 2,
   "metadata": {},
   "outputs": [],
   "source": [
    "weights = np.load(\"./vgg/vgg19.npy\", encoding='latin1').item()"
   ]
  },
  {
   "cell_type": "code",
   "execution_count": 3,
   "metadata": {},
   "outputs": [
    {
     "name": "stdout",
     "output_type": "stream",
     "text": [
      "dict_keys(['conv5_4', 'conv5_1', 'fc6', 'conv5_3', 'conv5_2', 'conv4_4', 'fc7', 'conv4_1', 'conv4_2', 'conv4_3', 'fc8', 'conv3_4', 'conv3_3', 'conv3_2', 'conv3_1', 'conv1_1', 'conv1_2', 'conv2_2', 'conv2_1'])\n"
     ]
    }
   ],
   "source": [
    "# Layer names in VGG19\n",
    "print(weights.keys())"
   ]
  },
  {
   "cell_type": "code",
   "execution_count": 4,
   "metadata": {},
   "outputs": [],
   "source": [
    "# ksize: 3 x 3\n",
    "# stride: 1\n",
    "# padding: SAME\n",
    "\n",
    "# from https://www.tensorflow.org/api_docs/python/tf/nn/conv2d, \n",
    "# we know that filter shape is [filter_height, filter_width, in_channels, out_channels]"
   ]
  },
  {
   "cell_type": "code",
   "execution_count": 6,
   "metadata": {},
   "outputs": [],
   "source": [
    "def filter_arr(layers):\n",
    "    filters = []\n",
    "    for l in layers:\n",
    "        filters.append(weights[l][0].flatten())\n",
    "    return np.hstack(filters)\n",
    "\n",
    "def bias_arr(layers):\n",
    "    filters = []\n",
    "    for l in layers:\n",
    "        filters.append(weights[l][1].flatten())\n",
    "    return np.hstack(filters)\n",
    "\n",
    "def filter_hist(filter_arr, bin_size, arr_min=0, arr_max=0):\n",
    "    arr_min = arr_min or np.min(filter_arr)\n",
    "    arr_max = arr_max or np.max(filter_arr)\n",
    "    bins = np.arange(arr_min, arr_max, bin_size)\n",
    "    print(\"Min: {}\\tMax: {}\".format(arr_min, arr_max))\n",
    "    \n",
    "    plt.hist(filter_arr, bins)"
   ]
  },
  {
   "cell_type": "code",
   "execution_count": 15,
   "metadata": {
    "scrolled": true
   },
   "outputs": [
    {
     "name": "stdout",
     "output_type": "stream",
     "text": [
      "Min: -0.04\tMax: 0.04\n"
     ]
    },
    {
     "data": {
      "image/png": "[encoded data removed]",
      "text/plain": [
       "<Figure size 432x288 with 1 Axes>"
      ]
     },
     "metadata": {},
     "output_type": "display_data"
    }
   ],
   "source": [
    "layer = [\"conv4_1\"]\n",
    "filter_hist(filter_arr(layer), 0.0001, -0.04, 0.04)"
   ]
  },
  {
   "cell_type": "markdown",
   "metadata": {},
   "source": [
    "## TEST FOR VGG19"
   ]
  },
  {
   "cell_type": "code",
   "execution_count": 6,
   "metadata": {},
   "outputs": [],
   "source": [
    "import tensorflow as tf\n",
    "import numpy as np \n",
    "import matplotlib.pyplot as plt\n",
    "\n",
    "import utils\n",
    "from vgg.vgg import VGG19"
   ]
  },
  {
   "cell_type": "code",
   "execution_count": 7,
   "metadata": {},
   "outputs": [],
   "source": [
    "# hyperparameters\n",
    "styl_path = \"./images/style/starry_night.jpg\"\n",
    "cont_path = \"./images/content/tubingen.jpg\"\n",
    "\n",
    "img_shape = (1, 224, 224, 3) #utils.optimal_dimension(cont_path)\n",
    "\n",
    "all_layers = [\"conv1_1\", \"conv1_2\", \n",
    "              \"conv2_1\", \"conv2_2\", \n",
    "              \"conv3_1\", \"conv3_2\", \"conv3_3\", \"conv3_4\",\n",
    "              \"conv4_1\", \"conv4_2\", \"conv4_3\", \"conv4_4\", \n",
    "              \"conv5_1\", \"conv5_2\", \"conv5_3\", \"conv5_4\"]\n",
    "styl_layers = all_layers #[\"conv1_1\", \"conv2_1\", \"conv3_1\", \"conv4_1\", \"conv5_1\"]\n",
    "cont_layers = styl_layers"
   ]
  },
  {
   "cell_type": "code",
   "execution_count": 9,
   "metadata": {},
   "outputs": [
    {
     "name": "stderr",
     "output_type": "stream",
     "text": [
      "/Users/ryanchankh/anaconda3/lib/python3.6/site-packages/skimage/transform/_warps.py:110: UserWarning: Anti-aliasing will be enabled by default in skimage 0.15 to avoid aliasing artifacts when down-sampling images.\n",
      "  warn(\"Anti-aliasing will be enabled by default in skimage 0.15 to \"\n"
     ]
    }
   ],
   "source": [
    "# load images\n",
    "styl_img = utils.load_image2(styl_path, img_shape)\n",
    "cont_img = utils.load_image2(cont_path, img_shape)\n",
    "init_img = utils.load_init_image2(cont_img, styl_img, img_shape)\n",
    "\n",
    "# preprocess\n",
    "styl_img = utils.img_preprocess2(styl_img)\n",
    "cont_img = utils.img_preprocess2(cont_img)\n",
    "init_img = utils.img_preprocess2(init_img)"
   ]
  },
  {
   "cell_type": "code",
   "execution_count": 10,
   "metadata": {},
   "outputs": [],
   "source": [
    "# initial a model for each activity\n",
    "with tf.Session() as sess:\n",
    "    gen_styl_act = VGG19().build(init_img).layer_dict(styl_layers)\n",
    "    gen_cont_act = VGG19().build(init_img).layer_dict(cont_layers)\n",
    " \n",
    "    test1_styl = {}\n",
    "    for l in styl_layers:\n",
    "        test1_styl[l] = sess.run(gen_styl_act[l])\n",
    "        #print(l, \"\\n\", sess.run(gen_styl_act[l]))\n",
    "        \n",
    "    test1_cont = {}\n",
    "    for l in cont_layers:\n",
    "        test1_cont[l] = sess.run(gen_cont_act[l])\n",
    "        #print(l, '\\n', sess.run(gen_cont_act[l]))"
   ]
  },
  {
   "cell_type": "code",
   "execution_count": 13,
   "metadata": {},
   "outputs": [],
   "source": [
    "# initial one model, then build image for each activity \n",
    "with tf.Session() as sess:\n",
    "    vgg_model = VGG19()\n",
    "    gen_styl_act = vgg_model.build(init_img).layer_dict(styl_layers)\n",
    "    gen_cont_act = vgg_model.build(init_img).layer_dict(cont_layers)\n",
    "    \n",
    "    test2_styl = {}\n",
    "    for l in styl_layers:\n",
    "        test2_styl[l] = sess.run(gen_styl_act[l])\n",
    "    \n",
    "    test2_cont = {}\n",
    "    for l in cont_layers:\n",
    "        test2_cont[l] = sess.run(gen_cont_act[l])"
   ]
  },
  {
   "cell_type": "code",
   "execution_count": 14,
   "metadata": {},
   "outputs": [],
   "source": [
    "# initial one model, one build image for each activity \n",
    "with tf.Session() as sess:\n",
    "    vgg_model = VGG19().build(init_img)\n",
    "    gen_styl_act = vgg_model.layer_dict(styl_layers)\n",
    "    gen_cont_act = vgg_model.layer_dict(cont_layers)\n",
    "    \n",
    "    test3_styl = {}\n",
    "    for l in styl_layers:\n",
    "        test3_styl[l] = sess.run(gen_styl_act[l])\n",
    "    \n",
    "    test3_cont = {}\n",
    "    for l in cont_layers:\n",
    "        test3_cont[l] = sess.run(gen_cont_act[l])"
   ]
  },
  {
   "cell_type": "code",
   "execution_count": 15,
   "metadata": {},
   "outputs": [],
   "source": [
    "# init one model, for different images\n",
    "with tf.Session() as sess:\n",
    "    vgg_model = VGG19()\n",
    "    cont_act = vgg_model.build(cont_img).layer_dict()\n",
    "    styl_act = vgg_model.build(styl_img).layer_dict()\n",
    "    \n",
    "    test4_cont = {}\n",
    "    for l in styl_layers:\n",
    "        test4_cont[l] = sess.run(cont_act[l])\n",
    "    \n",
    "    test4_styl = {}\n",
    "    for l in cont_layers:\n",
    "        test4_styl[l] = sess.run(styl_act[l])"
   ]
  },
  {
   "cell_type": "code",
   "execution_count": 19,
   "metadata": {},
   "outputs": [
    {
     "data": {
      "text/plain": [
       "False"
      ]
     },
     "execution_count": 19,
     "metadata": {},
     "output_type": "execute_result"
    }
   ],
   "source": [
    "np.allclose(test4_cont[\"conv1_1\"], test4_styl[\"conv1_1\"])"
   ]
  }
 ],
 "metadata": {
  "kernelspec": {
   "display_name": "Python 3",
   "language": "python",
   "name": "python3"
  },
  "language_info": {
   "codemirror_mode": {
    "name": "ipython",
    "version": 3
   },
   "file_extension": ".py",
   "mimetype": "text/x-python",
   "name": "python",
   "nbconvert_exporter": "python",
   "pygments_lexer": "ipython3",
   "version": "3.6.5"
  }
 },
 "nbformat": 4,
 "nbformat_minor": 2
}
