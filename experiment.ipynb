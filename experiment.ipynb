{
 "cells": [
  {
   "cell_type": "code",
   "execution_count": 14,
   "metadata": {},
   "outputs": [],
   "source": [
    "import tensorflow as tf\n",
    "import numpy as np \n",
    "import skimage\n",
    "\n",
    "import utils\n",
    "from vgg.vgg import VGG19"
   ]
  },
  {
   "cell_type": "code",
   "execution_count": 15,
   "metadata": {},
   "outputs": [],
   "source": [
    "#############\n",
    "## OPTIONS ##\n",
    "#############\n",
    "\n",
    "# image paths\n",
    "styl_path = './images/style/starry_night.jpg'\n",
    "cont_path = './images/content/tubingen.jpg'\n",
    "folder = \"./gen_img/\"\n",
    "\n",
    "# hyper-parameters\n",
    "#img_shape = utils.optimal_dimension(cont_path, square=False) # [batch, width, height, channels]\n",
    "img_shape = np.array([1, 512, 512 , 3])\n",
    "alpha = 0 # content weight alpha\n",
    "beta = 1            # style weight beta\n",
    "num_steps = 10000     # training iterations\n",
    "save_per_step = 10   # save image per this number of step\n",
    "\n",
    "# content and style layers used in style transfer\n",
    "cont_layers = [\"conv4_2\"]\n",
    "styl_layers = [\"conv1_1\", \"conv2_1\", \"conv3_1\", \"conv4_1\", \"conv5_1\"]\n",
    "#cont_layers = [\"relu4_2\"]\n",
    "#styl_layers = [\"relu1_1\", \"relu2_1\", \"relu3_1\", \"relu4_1\", \"relu5_1\"]\n",
    "\n",
    "# weights on each style layer\n",
    "styl_weights = {\"conv1_1\": 1, \"conv1_2\": 0.2, \"pool1\": 0,\n",
    "                \"conv2_1\": 1, \"conv2_2\": 0.2, \"pool2\": 0,\n",
    "                \"conv3_1\": 1, \"conv3_2\": 0.2, \"conv3_3\": 0.2, \"conv3_4\": 0, \"pool3\": 0,\n",
    "                \"conv4_1\": 1, \"conv4_2\": 0.2, \"conv4_3\": 0.2, \"conv4_4\": 0, \"pool4\": 0,\n",
    "                \"conv5_1\": 1, \"conv5_2\": 0.2, \"conv5_3\": 0.2, \"conv5_4\": 0, \"pool5\": 0,\n",
    "                \"relu1_1\": 1, \"relu2_1\": 0.2, \"relu3_1\": 0.2, \"relu4_1\": 0.2, \"relu5_1\": 0.2}\n",
    "\n",
    "# weights on each style layer\n",
    "cont_weights = {\"conv1_1\": 1, \"conv1_2\": 0.2, \"pool1\": 0,\n",
    "                \"conv2_1\": 1, \"conv2_2\": 0, \"pool2\": 0,\n",
    "                \"conv3_1\": 1, \"conv3_2\": 0, \"conv3_3\": 0.2, \"conv3_4\": 0, \"pool3\": 0,\n",
    "                \"conv4_1\": 1, \"conv4_2\": 1, \"conv4_3\": 0.2, \"conv4_4\": 0, \"pool4\": 0,\n",
    "                \"conv5_1\": 1, \"conv5_2\": 0, \"conv5_3\": 0.2, \"conv5_4\": 0, \"pool5\": 0,\n",
    "                \"relu4_2\": 1}"
   ]
  },
  {
   "cell_type": "code",
   "execution_count": 16,
   "metadata": {},
   "outputs": [
    {
     "name": "stderr",
     "output_type": "stream",
     "text": [
      "/Users/ryanchankh/anaconda3/lib/python3.6/site-packages/skimage/transform/_warps.py:110: UserWarning: Anti-aliasing will be enabled by default in skimage 0.15 to avoid aliasing artifacts when down-sampling images.\n",
      "  warn(\"Anti-aliasing will be enabled by default in skimage 0.15 to \"\n"
     ]
    }
   ],
   "source": [
    "styl_img = utils.load_image(styl_path, img_shape)\n",
    "cont_img = utils.load_image(cont_path, img_shape)"
   ]
  },
  {
   "cell_type": "code",
   "execution_count": 17,
   "metadata": {},
   "outputs": [],
   "source": [
    "styl_img = utils.img_preprocess(styl_img)\n",
    "cont_img = utils.img_preprocess(cont_img) "
   ]
  },
  {
   "cell_type": "code",
   "execution_count": 18,
   "metadata": {},
   "outputs": [],
   "source": [
    "# VGG test\n",
    "vgg = VGG19()\n",
    "styl_act = vgg.build(styl_img).layer_dict()\n",
    "cont_act = vgg.build(cont_img).layer_dict()"
   ]
  },
  {
   "cell_type": "code",
   "execution_count": 23,
   "metadata": {},
   "outputs": [],
   "source": [
    "sess = tf.InteractiveSession()\n",
    "x = sess.run(styl_act[\"conv4_1\"])\n",
    "y = sess.run(styl_act[\"conv4_2\"])\n",
    "z = sess.run(styl_act[\"conv4_3\"])\n",
    "sess.close()"
   ]
  }
 ],
 "metadata": {
  "kernelspec": {
   "display_name": "Python 3",
   "language": "python",
   "name": "python3"
  },
  "language_info": {
   "codemirror_mode": {
    "name": "ipython",
    "version": 3
   },
   "file_extension": ".py",
   "mimetype": "text/x-python",
   "name": "python",
   "nbconvert_exporter": "python",
   "pygments_lexer": "ipython3",
   "version": "3.6.5"
  }
 },
 "nbformat": 4,
 "nbformat_minor": 2
}
