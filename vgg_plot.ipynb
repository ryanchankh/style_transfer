{
 "cells": [
  {
   "cell_type": "code",
   "execution_count": 27,
   "metadata": {},
   "outputs": [],
   "source": [
    "import numpy as np\n",
    "import tensorflow as tf\n",
    "\n",
    "import matplotlib.pyplot as plt"
   ]
  },
  {
   "cell_type": "code",
   "execution_count": 2,
   "metadata": {},
   "outputs": [],
   "source": [
    "weights = np.load(\"./vgg/vgg19.npy\", encoding='latin1').item()"
   ]
  },
  {
   "cell_type": "code",
   "execution_count": 8,
   "metadata": {},
   "outputs": [
    {
     "name": "stdout",
     "output_type": "stream",
     "text": [
      "dict_keys(['conv5_4', 'conv5_1', 'fc6', 'conv5_3', 'conv5_2', 'conv4_4', 'fc7', 'conv4_1', 'conv4_2', 'conv4_3', 'fc8', 'conv3_4', 'conv3_3', 'conv3_2', 'conv3_1', 'conv1_1', 'conv1_2', 'conv2_2', 'conv2_1'])\n"
     ]
    }
   ],
   "source": [
    "# Layer names in VGG19\n",
    "print(weights.keys())"
   ]
  },
  {
   "cell_type": "code",
   "execution_count": 14,
   "metadata": {},
   "outputs": [
    {
     "data": {
      "text/plain": [
       "(3, 3, 3, 64)"
      ]
     },
     "execution_count": 14,
     "metadata": {},
     "output_type": "execute_result"
    }
   ],
   "source": [
    "conv1_1 = weights[\"conv1_1\"]\n",
    "conv1_1_f = conv1_1[0]   # filter\n",
    "conv1_1_b = conv1_1[1]   # bias\n",
    "conv1_1_f.shape"
   ]
  },
  {
   "cell_type": "code",
   "execution_count": 33,
   "metadata": {},
   "outputs": [
    {
     "data": {
      "text/plain": [
       "array([[ 0.34119523,  0.09563112,  0.0177449 ,  0.28980753, -0.09201225,\n",
       "         0.20704205,  0.06464372,  0.02164396,  0.10816754,  0.04840411,\n",
       "         0.05456827, -0.06106479, -0.15804501,  0.05193394, -0.06879135,\n",
       "         0.13399905, -0.0158462 ,  0.01739063,  0.16602218,  0.05781121,\n",
       "         0.3488678 ,  0.21198887,  0.14827386, -0.16918738,  0.03482846,\n",
       "         0.12712862, -0.03718409, -0.20042807, -0.0316871 , -0.18607035,\n",
       "        -0.21948689,  0.12711507, -0.09166071, -0.03434491, -0.19035071,\n",
       "        -0.26660755,  0.03135982, -0.31265616,  0.14062239,  0.12116193,\n",
       "        -0.09977946,  0.29688972, -0.05618067,  0.20568545, -0.01039268,\n",
       "         0.09246625, -0.10794856, -0.33728287,  0.04275126,  0.06488474,\n",
       "        -0.00978277,  0.37796795,  0.03669376, -0.2698137 ,  0.12800126,\n",
       "        -0.10272235,  0.01935874,  0.3056141 , -0.24094513, -0.16353162,\n",
       "        -0.29261988, -0.11436455, -0.05099866, -0.00299793],\n",
       "       [ 0.46418372,  0.03355668,  0.10245045,  0.43535256, -0.10801107,\n",
       "        -0.16476434,  0.08335487,  0.06911491, -0.19801761, -0.14816624,\n",
       "         0.12493473,  0.0546611 ,  0.30072922,  0.01841572, -0.12115428,\n",
       "        -0.1854222 , -0.07281167,  0.18567374, -0.17319693, -0.06177602,\n",
       "         0.23711477,  0.2840245 ,  0.06235291, -0.45403528,  0.11156715,\n",
       "         0.07880229, -0.06662454,  0.03548666, -0.06334984, -0.01749955,\n",
       "        -0.24507791,  0.10777426, -0.11041014, -0.1493794 , -0.21342757,\n",
       "        -0.37529954,  0.03815534, -0.40500462,  0.26671135, -0.11221855,\n",
       "         0.05671338,  0.17906004, -0.07205165,  0.2687745 ,  0.06612714,\n",
       "         0.09033839, -0.07680649, -0.4619278 ,  0.12459572, -0.03415212,\n",
       "         0.0849855 ,  0.4984795 , -0.11294956, -0.3491527 , -0.00799118,\n",
       "        -0.06091032, -0.11927652,  0.19134338, -0.30875197,  0.15053752,\n",
       "        -0.37830165, -0.06945956, -0.04020201,  0.04048637],\n",
       "       [ 0.39416704, -0.08419707, -0.03631314,  0.39405203, -0.05068224,\n",
       "        -0.03793104,  0.04198985,  0.11855511,  0.10878716, -0.13328017,\n",
       "         0.10774583, -0.07811938, -0.20163059, -0.09389774, -0.07611053,\n",
       "         0.14169425,  0.1401387 ,  0.095271  ,  0.09011585,  0.17640845,\n",
       "         0.2313451 ,  0.27594987, -0.1446077 , -0.2815942 , -0.01254853,\n",
       "        -0.16912632, -0.05192745, -0.02982092, -0.04040917,  0.21644549,\n",
       "        -0.27658233,  0.12686194,  0.01434656,  0.01299499, -0.1990123 ,\n",
       "        -0.34384793, -0.15346287, -0.32751855,  0.12628712, -0.02977814,\n",
       "        -0.09183577,  0.27078667, -0.06344337,  0.25105265, -0.01080914,\n",
       "         0.09104771, -0.03647525, -0.41950116,  0.17929186, -0.08668708,\n",
       "        -0.15695025,  0.45743784,  0.09690949, -0.25782156,  0.07413846,\n",
       "        -0.19191319, -0.00065999,  0.27476573, -0.26710263,  0.0780797 ,\n",
       "        -0.35254574, -0.10720515, -0.03804016,  0.04690642]],\n",
       "      dtype=float32)"
      ]
     },
     "execution_count": 33,
     "metadata": {},
     "output_type": "execute_result"
    }
   ],
   "source": [
    "# ksize: 3 x 3\n",
    "# stride: 1\n",
    "# padding: SAME\n",
    "\n",
    "# from https://www.tensorflow.org/api_docs/python/tf/nn/conv2d, \n",
    "# we know that filter shape is [filter_height, filter_width, in_channels, out_channels]\n",
    "\n",
    "x = conv1_1_f[0][0][0]\n",
    "y = conv1_1_f[0][0]\n",
    "y"
   ]
  },
  {
   "cell_type": "code",
   "execution_count": 34,
   "metadata": {},
   "outputs": [
    {
     "data": {
      "image/png": "[encoded data removed]",
      "text/plain": [
       "<matplotlib.figure.Figure at 0x14b6940b8>"
      ]
     },
     "metadata": {},
     "output_type": "display_data"
    }
   ],
   "source": [
    "plt.figure()\n",
    "plt.hist(y)\n",
    "plt.show()"
   ]
  },
  {
   "cell_type": "code",
   "execution_count": null,
   "metadata": {},
   "outputs": [],
   "source": []
  }
 ],
 "metadata": {
  "kernelspec": {
   "display_name": "Python 3",
   "language": "python",
   "name": "python3"
  },
  "language_info": {
   "codemirror_mode": {
    "name": "ipython",
    "version": 3
   },
   "file_extension": ".py",
   "mimetype": "text/x-python",
   "name": "python",
   "nbconvert_exporter": "python",
   "pygments_lexer": "ipython3",
   "version": "3.6.5"
  }
 },
 "nbformat": 4,
 "nbformat_minor": 2
}
